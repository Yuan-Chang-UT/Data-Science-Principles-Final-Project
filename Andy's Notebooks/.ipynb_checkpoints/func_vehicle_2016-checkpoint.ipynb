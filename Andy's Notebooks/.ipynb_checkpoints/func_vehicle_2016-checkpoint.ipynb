{
 "cells": [
  {
   "cell_type": "code",
   "execution_count": null,
   "metadata": {},
   "outputs": [],
   "source": [
    "#remove non printable\n",
    "#given a list of words to remove\n",
    "#one character long words\n",
    "\n",
    "import string\n",
    "import re\n",
    "\n",
    "\n",
    "\n",
    "def func(sentence, wordsToRemove):\n",
    "    \n",
    "    # remove non printable characters\n",
    "    removed_non_printable = ''.join([x for x in sentence if x in string.printable])\n",
    "    \n",
    "    \n",
    "    # remove stop words\n",
    "    resultwords  = [word for word in removed_non_printable if word.lower() not in wordsToRemove]\n",
    "    result = ' '.join(resultwords)\n",
    "    \n",
    "    \n",
    "    #remove one character long words\n",
    "    output =  re.sub(r\"\\b[a-zA-Z]\\b\", \"\", result)\n",
    "    \n",
    "    \n",
    "    return output\n",
    "    \n",
    "    "
   ]
  }
 ],
 "metadata": {
  "kernelspec": {
   "display_name": "Python 3",
   "language": "python",
   "name": "python3"
  },
  "language_info": {
   "codemirror_mode": {
    "name": "ipython",
    "version": 3
   },
   "file_extension": ".py",
   "mimetype": "text/x-python",
   "name": "python",
   "nbconvert_exporter": "python",
   "pygments_lexer": "ipython3",
   "version": "3.6.5"
  }
 },
 "nbformat": 4,
 "nbformat_minor": 2
}
