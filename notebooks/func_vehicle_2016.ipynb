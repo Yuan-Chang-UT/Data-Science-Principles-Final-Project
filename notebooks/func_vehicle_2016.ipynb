{
 "cells": [
  {
   "cell_type": "code",
   "execution_count": 7,
   "metadata": {},
   "outputs": [
    {
     "name": "stdout",
     "output_type": "stream",
     "text": [
      "basd   /ze, /\n",
      "ab  de\n"
     ]
    }
   ],
   "source": [
    "#remove non printable\n",
    "#given a list of words to remove\n",
    "#one character long words\n",
    "\n",
    "import string\n",
    "import re\n",
    "\n",
    "\n",
    "\n",
    "def func(sentence, wordsToRemove):\n",
    "    \n",
    "    # remove non printable characters\n",
    "    removed_non_printable = ''.join([x for x in sentence if x in string.printable])\n",
    "    \n",
    "    # remove stop words\n",
    "    resultwords  = [word for word in removed_non_printable.split() if word.lower() not in wordsToRemove]\n",
    "    result = ' '.join(resultwords)\n",
    "    \n",
    "    #remove one character long words\n",
    "    output =  re.sub(r\"\\b[a-zA-Z]\\b\", \"\", result)\n",
    "    \n",
    "    return output\n",
    "    \n",
    "    \n",
    "    \n",
    "\n",
    "    \n",
    "sent = \"asd basd dê\tdờ\t/ze˧, zəː˧˩/Đ đ\tđê\tđờ\"\n",
    "\n",
    "sent2 = \"ab c de\"\n",
    "wordsToRemove = ['asd', 'as']\n",
    "\n",
    "print(func(sent, wordsToRemove))\n",
    "\n",
    "print(func(sent2, []))"
   ]
  },
  {
   "cell_type": "code",
   "execution_count": null,
   "metadata": {},
   "outputs": [],
   "source": []
  }
 ],
 "metadata": {
  "kernelspec": {
   "display_name": "Python 3",
   "language": "python",
   "name": "python3"
  },
  "language_info": {
   "codemirror_mode": {
    "name": "ipython",
    "version": 3
   },
   "file_extension": ".py",
   "mimetype": "text/x-python",
   "name": "python",
   "nbconvert_exporter": "python",
   "pygments_lexer": "ipython3",
   "version": "3.6.5"
  }
 },
 "nbformat": 4,
 "nbformat_minor": 2
}
